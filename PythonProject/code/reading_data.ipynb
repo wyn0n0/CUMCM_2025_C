{
 "cells": [
  {
   "cell_type": "code",
   "id": "initial_id",
   "metadata": {
    "collapsed": true,
    "ExecuteTime": {
     "end_time": "2025-09-04T13:04:40.884742Z",
     "start_time": "2025-09-04T13:04:39.942799Z"
    }
   },
   "source": [
    "import numpy as np\n",
    "from scipy.stats import jarque_bera\n",
    "import pandas as pd\n",
    "import seaborn as sns\n",
    "import matplotlib.pyplot as plt\n",
    "from scipy.stats import spearmanr"
   ],
   "outputs": [],
   "execution_count": 42
  },
  {
   "metadata": {
    "ExecuteTime": {
     "end_time": "2025-09-04T12:42:23.832506Z",
     "start_time": "2025-09-04T12:42:23.364093Z"
    }
   },
   "cell_type": "code",
   "source": [
    "\n",
    "Data1 = pd.read_excel('G:\\\\25国赛\\\\C题\\\\附件.xlsx', sheet_name='男胎检测数据')\n"
   ],
   "id": "5ed78ecc4a3b7c87",
   "outputs": [
    {
     "name": "stdout",
     "output_type": "stream",
     "text": [
      "0    0.025936\n",
      "1    0.034887\n",
      "2    0.066171\n",
      "3    0.061192\n",
      "4    0.059230\n",
      "Name: Y染色体浓度, dtype: float64\n"
     ]
    }
   ],
   "execution_count": 37
  },
  {
   "metadata": {
    "ExecuteTime": {
     "end_time": "2025-09-04T14:05:03.448714Z",
     "start_time": "2025-09-04T14:05:03.445031Z"
    }
   },
   "cell_type": "code",
   "source": [
    "def perform_jb_test(data, data_name):\n",
    "    \"\"\"执行JB检验并打印结果\"\"\"\n",
    "    statistic, p_value = jarque_bera(data)\n",
    "    print(f\"{data_name}的JB检验结果：\")\n",
    "    print(f\"JB统计量: {statistic:.4f}\")\n",
    "    print(f\"p值: {p_value:.4f}\")\n",
    "    print(f\"结论: {'数据不服从正态分布' if p_value < 0.05 else '数据服从正态分布'}\\n\")\n"
   ],
   "id": "c91ecfb0b8b3dd47",
   "outputs": [],
   "execution_count": 50
  },
  {
   "metadata": {
    "ExecuteTime": {
     "end_time": "2025-09-04T12:42:26.202389Z",
     "start_time": "2025-09-04T12:42:26.198614Z"
    }
   },
   "cell_type": "code",
   "source": [
    "def week_to_day(string):\n",
    "    normalized = string.replace('W', 'w')\n",
    "    # 移除可能存在的+号\n",
    "    cleaned = normalized.replace('+', '')\n",
    "\n",
    "    # 分割周和天\n",
    "    parts = cleaned.split('w')\n",
    "\n",
    "    # 提取周数（处理可能的空字符串情况）\n",
    "    if parts[0].strip():  # 确保周数部分不为空\n",
    "        week = int(parts[0])\n",
    "    else:\n",
    "        return 0  # 或根据实际需求返回错误值\n",
    "\n",
    "    # 提取天数（如果存在）\n",
    "    if len(parts) > 1 and parts[1].strip():\n",
    "        day = int(parts[1])\n",
    "    else:\n",
    "        day = 0\n",
    "\n",
    "    return week * 7 + day\n"
   ],
   "id": "f57af8aedc595b7c",
   "outputs": [
    {
     "name": "stdout",
     "output_type": "stream",
     "text": [
      "14w+7 -> 105天\n",
      "13w+4 -> 95天\n",
      "11w -> 77天\n"
     ]
    }
   ],
   "execution_count": 39
  },
  {
   "metadata": {
    "ExecuteTime": {
     "end_time": "2025-09-04T12:42:28.938488Z",
     "start_time": "2025-09-04T12:42:28.926713Z"
    }
   },
   "cell_type": "code",
   "source": [
    "if '检测孕周' in Data1.columns:\n",
    "    Data1['检测孕周'] = Data1['检测孕周'].apply(week_to_day)\n",
    "\n",
    "# print(Data1['检测孕周'].head())\n",
    "\n",
    "threshold = Data1['GC含量'].quantile(0.05)\n",
    "Data1_filtered = Data1[Data1['GC含量'] > threshold]\n",
    "print(f\"原始数据量: {len(Data1)}\")\n",
    "print(f\"过滤后数据量: {len(Data1_filtered)}\")\n",
    "print(f\"删除了 {len(Data1) - len(Data1_filtered)} 条最小的5%数据\")\n",
    "print(\"过滤后的数据前5行:\")\n",
    "print(Data1_filtered.head())"
   ],
   "id": "ea6bdb5b8e552d53",
   "outputs": [
    {
     "name": "stdout",
     "output_type": "stream",
     "text": [
      "原始数据量: 1082\n",
      "过滤后数据量: 1027\n",
      "删除了 55 条最小的5%数据\n",
      "过滤后的数据前5行:\n",
      "   序号  孕妇代码  年龄     身高    体重                 末次月经 IVF妊娠      检测日期  检测抽血次数  \\\n",
      "0   1  A001  31  160.0  72.0  2023-02-01 00:00:00  自然受孕  20230429       1   \n",
      "2   3  A001  31  160.0  73.0  2023-02-01 00:00:00  自然受孕  20230625       3   \n",
      "3   4  A001  31  160.0  74.0  2023-02-01 00:00:00  自然受孕  20230716       4   \n",
      "4   5  A002  32  149.0  74.0  2023-11-09 00:00:00  自然受孕  20240219       1   \n",
      "5   6  A002  32  149.0  76.0  2023-11-09 00:00:00  自然受孕  20240310       2   \n",
      "\n",
      "   检测孕周  ...    Y染色体浓度    X染色体浓度  13号染色体的GC含量  18号染色体的GC含量  21号染色体的GC含量  \\\n",
      "0    83  ...  0.025936  0.038061     0.377069     0.389803     0.399399   \n",
      "2   141  ...  0.066171  0.075995     0.377449     0.390582     0.399480   \n",
      "3   160  ...  0.061192  0.052305     0.375613     0.389251     0.397212   \n",
      "4    97  ...  0.059230  0.059708     0.380260     0.393618     0.404868   \n",
      "5   117  ...  0.042401  0.040477     0.377387     0.390282     0.399467   \n",
      "\n",
      "   被过滤掉读段数的比例  染色体的非整倍体  怀孕次数  生产次数  胎儿是否健康  \n",
      "0    0.027484       NaN     1     0       是  \n",
      "2    0.022312       NaN     1     0       是  \n",
      "3    0.023280       NaN     1     0       是  \n",
      "4    0.024212       NaN     2     1       否  \n",
      "5    0.026017       NaN     2     1       否  \n",
      "\n",
      "[5 rows x 31 columns]\n"
     ]
    }
   ],
   "execution_count": 40
  },
  {
   "metadata": {
    "ExecuteTime": {
     "end_time": "2025-09-04T13:05:50.957780Z",
     "start_time": "2025-09-04T13:05:50.954113Z"
    }
   },
   "cell_type": "code",
   "source": [
    "def calculate_spearman_matrix(df):\n",
    "    \"\"\"计算多变量间的斯皮尔曼相关系数和p值矩阵\"\"\"\n",
    "    cols = df.columns\n",
    "    n = len(cols)\n",
    "\n",
    "    # 初始化系数矩阵和p值矩阵\n",
    "    corr_matrix = pd.DataFrame(np.ones((n, n)), index=cols, columns=cols)\n",
    "    p_matrix = pd.DataFrame(np.zeros((n, n)), index=cols, columns=cols)\n",
    "\n",
    "    # 计算两两变量间的相关性\n",
    "    for i in range(n):\n",
    "        for j in range(i+1, n):\n",
    "            corr, p = spearmanr(df[cols[i]], df[cols[j]])\n",
    "            corr_matrix.loc[cols[i], cols[j]] = corr\n",
    "            corr_matrix.loc[cols[j], cols[i]] = corr  # 矩阵对称\n",
    "            p_matrix.loc[cols[i], cols[j]] = p\n",
    "            p_matrix.loc[cols[j], cols[i]] = p  # 矩阵对称\n",
    "\n",
    "    return corr_matrix, p_matrix"
   ],
   "id": "a49d1f64447e4bc5",
   "outputs": [],
   "execution_count": 43
  },
  {
   "metadata": {
    "ExecuteTime": {
     "end_time": "2025-09-04T14:27:43.256465Z",
     "start_time": "2025-09-04T14:27:43.032641Z"
    }
   },
   "cell_type": "code",
   "source": [
    "df = Data1_filtered[['检测孕周','孕妇BMI','Y染色体浓度']]\n",
    "corr_matrix, p_matrix = calculate_spearman_matrix(df)\n",
    "plt.figure(figsize=(10, 8))\n",
    "# 绘制相关系数热力图\n",
    "plt.rcParams[\"font.family\"] = [\"SimHei\", \"WenQuanYi Micro Hei\", \"Heiti TC\"]  # 包含多种中文字体备选\n",
    "plt.rcParams['axes.unicode_minus'] = False  # 解决负号显示问题\n",
    "sns.heatmap(\n",
    "    corr_matrix,\n",
    "    annot=True,  # 显示系数值\n",
    "    cmap='coolwarm',  # 颜色主题（红-蓝表示正负相关）\n",
    "    vmin=-1, vmax=1,  # 颜色范围\n",
    "    center=0,  # 颜色中心值\n",
    "    fmt='.2f',  # 系数显示格式\n",
    "    linewidths=0.5  # 格子线宽度\n",
    ")\n",
    "plt.title('多变量斯皮尔曼相关系数热力图', fontsize=15)\n",
    "plt.tight_layout()\n",
    "plt.show()\n",
    "\n",
    "# 可选：筛选出显著相关的变量对（p < 0.05）\n",
    "significant_pairs = []\n",
    "cols = df.columns\n",
    "for i in range(len(cols)):\n",
    "    for j in range(i+1, len(cols)):\n",
    "        if p_matrix.iloc[i, j] < 0.05:\n",
    "            significant_pairs.append({\n",
    "                '变量对': f\"{cols[i]}-{cols[j]}\",\n",
    "                '相关系数': round(corr_matrix.iloc[i, j], 3),\n",
    "                'p值': round(p_matrix.iloc[i, j], 4)\n",
    "            })\n",
    "\n",
    "print(\"\\n显著相关的变量对（p < 0.05）：\")\n",
    "print(pd.DataFrame(significant_pairs))"
   ],
   "id": "f799109599dce6b9",
   "outputs": [
    {
     "name": "stderr",
     "output_type": "stream",
     "text": [
      "findfont: Font family 'WenQuanYi Micro Hei' not found.\n",
      "findfont: Font family 'Heiti TC' not found.\n",
      "findfont: Font family 'WenQuanYi Micro Hei' not found.\n",
      "findfont: Font family 'Heiti TC' not found.\n",
      "findfont: Font family 'WenQuanYi Micro Hei' not found.\n",
      "findfont: Font family 'Heiti TC' not found.\n",
      "findfont: Font family 'WenQuanYi Micro Hei' not found.\n",
      "findfont: Font family 'Heiti TC' not found.\n",
      "findfont: Font family 'WenQuanYi Micro Hei' not found.\n",
      "findfont: Font family 'Heiti TC' not found.\n",
      "findfont: Font family 'WenQuanYi Micro Hei' not found.\n",
      "findfont: Font family 'Heiti TC' not found.\n",
      "findfont: Font family 'WenQuanYi Micro Hei' not found.\n",
      "findfont: Font family 'Heiti TC' not found.\n",
      "findfont: Font family 'WenQuanYi Micro Hei' not found.\n",
      "findfont: Font family 'Heiti TC' not found.\n",
      "findfont: Font family 'WenQuanYi Micro Hei' not found.\n",
      "findfont: Font family 'Heiti TC' not found.\n",
      "findfont: Font family 'WenQuanYi Micro Hei' not found.\n",
      "findfont: Font family 'Heiti TC' not found.\n",
      "findfont: Font family 'WenQuanYi Micro Hei' not found.\n",
      "findfont: Font family 'Heiti TC' not found.\n",
      "findfont: Font family 'WenQuanYi Micro Hei' not found.\n",
      "findfont: Font family 'Heiti TC' not found.\n",
      "findfont: Font family 'WenQuanYi Micro Hei' not found.\n",
      "findfont: Font family 'Heiti TC' not found.\n",
      "findfont: Font family 'WenQuanYi Micro Hei' not found.\n",
      "findfont: Font family 'Heiti TC' not found.\n",
      "findfont: Font family 'WenQuanYi Micro Hei' not found.\n",
      "findfont: Font family 'Heiti TC' not found.\n",
      "findfont: Font family 'WenQuanYi Micro Hei' not found.\n",
      "findfont: Font family 'Heiti TC' not found.\n",
      "findfont: Font family 'WenQuanYi Micro Hei' not found.\n",
      "findfont: Font family 'Heiti TC' not found.\n",
      "findfont: Font family 'WenQuanYi Micro Hei' not found.\n",
      "findfont: Font family 'Heiti TC' not found.\n",
      "findfont: Font family 'WenQuanYi Micro Hei' not found.\n",
      "findfont: Font family 'Heiti TC' not found.\n",
      "findfont: Font family 'WenQuanYi Micro Hei' not found.\n",
      "findfont: Font family 'Heiti TC' not found.\n",
      "findfont: Font family 'WenQuanYi Micro Hei' not found.\n",
      "findfont: Font family 'Heiti TC' not found.\n",
      "findfont: Font family 'WenQuanYi Micro Hei' not found.\n",
      "findfont: Font family 'Heiti TC' not found.\n",
      "findfont: Font family 'WenQuanYi Micro Hei' not found.\n",
      "findfont: Font family 'Heiti TC' not found.\n",
      "findfont: Font family 'WenQuanYi Micro Hei' not found.\n",
      "findfont: Font family 'Heiti TC' not found.\n",
      "findfont: Font family 'WenQuanYi Micro Hei' not found.\n",
      "findfont: Font family 'Heiti TC' not found.\n",
      "findfont: Font family 'WenQuanYi Micro Hei' not found.\n",
      "findfont: Font family 'Heiti TC' not found.\n",
      "findfont: Font family 'WenQuanYi Micro Hei' not found.\n",
      "findfont: Font family 'Heiti TC' not found.\n",
      "findfont: Font family 'WenQuanYi Micro Hei' not found.\n",
      "findfont: Font family 'Heiti TC' not found.\n",
      "findfont: Font family 'WenQuanYi Micro Hei' not found.\n",
      "findfont: Font family 'Heiti TC' not found.\n",
      "findfont: Font family 'WenQuanYi Micro Hei' not found.\n",
      "findfont: Font family 'Heiti TC' not found.\n",
      "findfont: Font family 'WenQuanYi Micro Hei' not found.\n",
      "findfont: Font family 'Heiti TC' not found.\n",
      "findfont: Font family 'WenQuanYi Micro Hei' not found.\n",
      "findfont: Font family 'Heiti TC' not found.\n",
      "findfont: Font family 'WenQuanYi Micro Hei' not found.\n",
      "findfont: Font family 'Heiti TC' not found.\n",
      "findfont: Font family 'WenQuanYi Micro Hei' not found.\n",
      "findfont: Font family 'Heiti TC' not found.\n",
      "findfont: Font family 'WenQuanYi Micro Hei' not found.\n",
      "findfont: Font family 'Heiti TC' not found.\n",
      "findfont: Font family 'WenQuanYi Micro Hei' not found.\n",
      "findfont: Font family 'Heiti TC' not found.\n",
      "findfont: Font family 'WenQuanYi Micro Hei' not found.\n",
      "findfont: Font family 'Heiti TC' not found.\n",
      "findfont: Font family 'WenQuanYi Micro Hei' not found.\n",
      "findfont: Font family 'Heiti TC' not found.\n",
      "findfont: Font family 'WenQuanYi Micro Hei' not found.\n",
      "findfont: Font family 'Heiti TC' not found.\n",
      "findfont: Font family 'WenQuanYi Micro Hei' not found.\n",
      "findfont: Font family 'Heiti TC' not found.\n",
      "findfont: Font family 'WenQuanYi Micro Hei' not found.\n",
      "findfont: Font family 'Heiti TC' not found.\n",
      "findfont: Font family 'WenQuanYi Micro Hei' not found.\n",
      "findfont: Font family 'Heiti TC' not found.\n",
      "findfont: Font family 'WenQuanYi Micro Hei' not found.\n",
      "findfont: Font family 'Heiti TC' not found.\n",
      "findfont: Font family 'WenQuanYi Micro Hei' not found.\n",
      "findfont: Font family 'Heiti TC' not found.\n",
      "findfont: Font family 'WenQuanYi Micro Hei' not found.\n",
      "findfont: Font family 'Heiti TC' not found.\n",
      "findfont: Font family 'WenQuanYi Micro Hei' not found.\n",
      "findfont: Font family 'Heiti TC' not found.\n",
      "findfont: Font family 'WenQuanYi Micro Hei' not found.\n",
      "findfont: Font family 'Heiti TC' not found.\n",
      "findfont: Font family 'WenQuanYi Micro Hei' not found.\n",
      "findfont: Font family 'Heiti TC' not found.\n",
      "findfont: Font family 'WenQuanYi Micro Hei' not found.\n",
      "findfont: Font family 'Heiti TC' not found.\n",
      "findfont: Font family 'WenQuanYi Micro Hei' not found.\n",
      "findfont: Font family 'Heiti TC' not found.\n",
      "findfont: Font family 'WenQuanYi Micro Hei' not found.\n",
      "findfont: Font family 'Heiti TC' not found.\n",
      "findfont: Font family 'WenQuanYi Micro Hei' not found.\n",
      "findfont: Font family 'Heiti TC' not found.\n",
      "findfont: Font family 'WenQuanYi Micro Hei' not found.\n",
      "findfont: Font family 'Heiti TC' not found.\n",
      "findfont: Font family 'WenQuanYi Micro Hei' not found.\n",
      "findfont: Font family 'Heiti TC' not found.\n",
      "findfont: Font family 'WenQuanYi Micro Hei' not found.\n",
      "findfont: Font family 'Heiti TC' not found.\n",
      "findfont: Font family 'WenQuanYi Micro Hei' not found.\n",
      "findfont: Font family 'Heiti TC' not found.\n",
      "findfont: Font family 'WenQuanYi Micro Hei' not found.\n",
      "findfont: Font family 'Heiti TC' not found.\n",
      "findfont: Font family 'WenQuanYi Micro Hei' not found.\n",
      "findfont: Font family 'Heiti TC' not found.\n",
      "findfont: Font family 'WenQuanYi Micro Hei' not found.\n",
      "findfont: Font family 'Heiti TC' not found.\n",
      "findfont: Font family 'WenQuanYi Micro Hei' not found.\n",
      "findfont: Font family 'Heiti TC' not found.\n",
      "findfont: Font family 'WenQuanYi Micro Hei' not found.\n",
      "findfont: Font family 'Heiti TC' not found.\n",
      "findfont: Font family 'WenQuanYi Micro Hei' not found.\n",
      "findfont: Font family 'Heiti TC' not found.\n",
      "findfont: Font family 'WenQuanYi Micro Hei' not found.\n",
      "findfont: Font family 'Heiti TC' not found.\n",
      "findfont: Font family 'WenQuanYi Micro Hei' not found.\n",
      "findfont: Font family 'Heiti TC' not found.\n",
      "findfont: Font family 'WenQuanYi Micro Hei' not found.\n",
      "findfont: Font family 'Heiti TC' not found.\n",
      "findfont: Font family 'WenQuanYi Micro Hei' not found.\n",
      "findfont: Font family 'Heiti TC' not found.\n",
      "findfont: Font family 'WenQuanYi Micro Hei' not found.\n",
      "findfont: Font family 'Heiti TC' not found.\n",
      "findfont: Font family 'WenQuanYi Micro Hei' not found.\n",
      "findfont: Font family 'Heiti TC' not found.\n",
      "findfont: Font family 'WenQuanYi Micro Hei' not found.\n",
      "findfont: Font family 'Heiti TC' not found.\n",
      "findfont: Font family 'WenQuanYi Micro Hei' not found.\n",
      "findfont: Font family 'Heiti TC' not found.\n",
      "findfont: Font family 'WenQuanYi Micro Hei' not found.\n",
      "findfont: Font family 'Heiti TC' not found.\n",
      "findfont: Font family 'WenQuanYi Micro Hei' not found.\n",
      "findfont: Font family 'Heiti TC' not found.\n",
      "findfont: Font family 'WenQuanYi Micro Hei' not found.\n",
      "findfont: Font family 'Heiti TC' not found.\n",
      "findfont: Font family 'WenQuanYi Micro Hei' not found.\n",
      "findfont: Font family 'Heiti TC' not found.\n",
      "findfont: Font family 'WenQuanYi Micro Hei' not found.\n",
      "findfont: Font family 'Heiti TC' not found.\n",
      "findfont: Font family 'WenQuanYi Micro Hei' not found.\n",
      "findfont: Font family 'Heiti TC' not found.\n"
     ]
    },
    {
     "data": {
      "text/plain": [
       "<Figure size 1000x800 with 2 Axes>"
      ],
      "image/png": "[encoded data removed]"
     },
     "metadata": {},
     "output_type": "display_data"
    },
    {
     "name": "stdout",
     "output_type": "stream",
     "text": [
      "\n",
      "显著相关的变量对（p < 0.05）：\n",
      "            变量对   相关系数      p值\n",
      "0    检测孕周-孕妇BMI  0.120  0.0001\n",
      "1   检测孕周-Y染色体浓度  0.080  0.0108\n",
      "2  孕妇BMI-Y染色体浓度 -0.162  0.0000\n"
     ]
    }
   ],
   "execution_count": 52
  },
  {
   "metadata": {
    "ExecuteTime": {
     "end_time": "2025-09-04T12:44:05.083158Z",
     "start_time": "2025-09-04T12:44:04.808001Z"
    }
   },
   "cell_type": "code",
   "source": "Data1_filtered.to_excel('Data1_WeekToDay.xlsx', index=False)",
   "id": "605b73dbd07d45f8",
   "outputs": [],
   "execution_count": 41
  },
  {
   "metadata": {
    "ExecuteTime": {
     "end_time": "2025-09-04T14:05:07.385081Z",
     "start_time": "2025-09-04T14:05:07.381491Z"
    }
   },
   "cell_type": "code",
   "source": "perform_jb_test(Data1_filtered['检测孕周'], 'JBtest_excel')",
   "id": "dd6a4927ea7f2792",
   "outputs": [
    {
     "name": "stdout",
     "output_type": "stream",
     "text": [
      "JBtest_excel的JB检验结果：\n",
      "JB统计量: 89.2025\n",
      "p值: 0.0000\n",
      "结论: 数据不服从正态分布\n",
      "\n"
     ]
    }
   ],
   "execution_count": 51
  }
 ],
 "metadata": {
  "kernelspec": {
   "display_name": "Python 3",
   "language": "python",
   "name": "python3"
  },
  "language_info": {
   "codemirror_mode": {
    "name": "ipython",
    "version": 2
   },
   "file_extension": ".py",
   "mimetype": "text/x-python",
   "name": "python",
   "nbconvert_exporter": "python",
   "pygments_lexer": "ipython2",
   "version": "2.7.6"
  }
 },
 "nbformat": 4,
 "nbformat_minor": 5
}
