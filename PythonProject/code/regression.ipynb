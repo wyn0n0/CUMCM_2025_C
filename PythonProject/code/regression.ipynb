{
 "cells": [
  {
   "cell_type": "code",
   "id": "initial_id",
   "metadata": {
    "collapsed": true,
    "ExecuteTime": {
     "end_time": "2025-09-04T14:24:06.309126Z",
     "start_time": "2025-09-04T14:24:06.305060Z"
    }
   },
   "source": [
    "import numpy as np\n",
    "import matplotlib.pyplot as plt\n",
    "import seaborn as sns\n",
    "import pandas as pd\n",
    "from sklearn.linear_model import LinearRegression\n",
    "from sklearn.metrics import r2_score, mean_squared_error, mean_absolute_error\n",
    "from sklearn.model_selection import train_test_split\n",
    "from sklearn.preprocessing import PolynomialFeatures"
   ],
   "outputs": [],
   "execution_count": 7
  },
  {
   "metadata": {
    "ExecuteTime": {
     "end_time": "2025-09-04T15:00:23.465434Z",
     "start_time": "2025-09-04T15:00:23.215172Z"
    }
   },
   "cell_type": "code",
   "source": [
    "df = pd.read_excel('G:\\\\25国赛\\\\C题\\\\PythonProject\\\\code\\\\Data1_WeekToDay.xlsx')\n",
    "df['B*W'] = df['检测孕周'] * df['孕妇BMI']\n",
    "\n",
    "X = df[['检测孕周','孕妇BMI',]]\n",
    "y = df['Y染色体浓度']\n",
    "\n",
    "X_train, X_test, y_train, y_test = train_test_split(X, y, test_size=0.2, random_state=42)\n",
    "\n",
    "degree = 3  # 多项式阶数（根据数据特点调整）\n",
    "poly = PolynomialFeatures(degree=degree, include_bias=False)\n",
    "# 转换特征：生成X1, X2, X1², X1X2, X2², X1³, X1²X2, X1X2², X2³等项\n",
    "X_train_poly = poly.fit_transform(X_train)\n",
    "X_test_poly = poly.transform(X_test)\n",
    "\n",
    "model = LinearRegression()\n",
    "model.fit(X_train_poly, y_train)\n",
    "y_pred_train = model.predict(X_train_poly)\n",
    "y_pred_test = model.predict(X_test_poly)\n",
    "\n",
    "r2 = r2_score(y_test, y_pred_test)\n",
    "\n",
    "print(f\"系数: {model.coef_}\")\n",
    "print(f\"截距: {model.intercept_}\")\n",
    "print(f\"R²（决定系数）：{r2:.4f}\")"
   ],
   "id": "77556b560e6efaa5",
   "outputs": [
    {
     "name": "stdout",
     "output_type": "stream",
     "text": [
      "系数: [ 1.44815149e-02  1.46510065e-01 -7.06998858e-05 -3.79781876e-04\n",
      " -3.63639217e-03  1.88186090e-07  7.96049608e-08  5.59981008e-06\n",
      "  2.76233636e-05]\n",
      "截距: -2.1031661882534682\n",
      "R²（决定系数）：0.0454\n"
     ]
    }
   ],
   "execution_count": 14
  }
 ],
 "metadata": {
  "kernelspec": {
   "display_name": "Python 3",
   "language": "python",
   "name": "python3"
  },
  "language_info": {
   "codemirror_mode": {
    "name": "ipython",
    "version": 2
   },
   "file_extension": ".py",
   "mimetype": "text/x-python",
   "name": "python",
   "nbconvert_exporter": "python",
   "pygments_lexer": "ipython2",
   "version": "2.7.6"
  }
 },
 "nbformat": 4,
 "nbformat_minor": 5
}
