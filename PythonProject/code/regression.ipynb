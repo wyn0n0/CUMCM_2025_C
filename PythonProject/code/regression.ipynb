{
 "cells": [
  {
   "cell_type": "code",
   "id": "initial_id",
   "metadata": {
    "collapsed": true,
    "ExecuteTime": {
     "end_time": "2025-09-05T02:50:17.523383Z",
     "start_time": "2025-09-05T02:50:17.520029Z"
    }
   },
   "source": [
    "import numpy as np\n",
    "import matplotlib.pyplot as plt\n",
    "import seaborn as sns\n",
    "import pandas as pd\n",
    "from sklearn.linear_model import LinearRegression\n",
    "from sklearn.metrics import r2_score, mean_squared_error, mean_absolute_error\n",
    "from sklearn.model_selection import train_test_split\n",
    "from sklearn.preprocessing import PolynomialFeatures\n",
    "from sklearn.ensemble import RandomForestRegressor\n",
    "import statsmodels.api as sm\n",
    "from statsmodels.stats.outliers_influence import variance_inflation_factor\n",
    "from scipy import stats"
   ],
   "outputs": [],
   "execution_count": 77
  },
  {
   "metadata": {
    "ExecuteTime": {
     "end_time": "2025-09-05T03:02:37.524216Z",
     "start_time": "2025-09-05T03:02:37.258040Z"
    }
   },
   "cell_type": "code",
   "source": [
    "df = pd.read_excel('G:\\\\25国赛\\\\C题\\\\PythonProject\\\\code\\\\Data1_WeekToDay.xlsx')\n",
    "df['检测孕周'] = df['检测孕周'] / 7\n",
    "\n",
    "\n",
    "X = df[['检测孕周','孕妇BMI',]]\n",
    "y = df['Y染色体浓度']\n",
    "\n",
    "y_log = np.log(y)\n",
    "X_trans = X.copy()\n",
    "X_trans['log检测孕周'] = np.log(X_trans['检测孕周'])\n",
    "X_trans['孕妇BMI_2'] = np.power(X_trans['孕妇BMI'], 2)\n",
    "X_trans['logGA*BMI'] = X_trans['log检测孕周'] * X_trans['孕妇BMI']\n",
    "X_trans = X_trans[['检测孕周', '孕妇BMI_2']]\n",
    "\n",
    "# X_trans = sm.add_constant(X_trans)\n",
    "\n",
    "X_train, X_test, y_train, y_test = train_test_split(X_trans, y_log, test_size=0.1, random_state=2)\n",
    "\n",
    "# model = sm.OLS(y_train, X_train).fit()\n",
    "# print(model.summary())\n",
    "\n",
    "# degree = 2  # 多项式阶数（根据数据特点调整）\n",
    "# poly = PolynomialFeatures(degree=degree,)\n",
    "# # 转换特征：生成X1, X2, X1², X1X2, X2², X1³, X1²X2, X1X2², X2³等项\n",
    "# X_train_poly = poly.fit_transform(X_train)\n",
    "# X_test_poly = poly.transform(X_test)\n",
    "\n",
    "\n",
    "model = LinearRegression()\n",
    "model.fit(X_train, y_train)\n",
    "y_pred_train = model.predict(X_train)\n",
    "y_pred_test = model.predict(X_test)\n",
    "\n",
    "r2 = r2_score(y_test, y_pred_test)\n",
    "\n",
    "print(f\"系数: {model.coef_}\")\n",
    "print(f\"截距: {model.intercept_}\")\n",
    "print(f\"R²（决定系数）：{r2:.4f}\")"
   ],
   "id": "77556b560e6efaa5",
   "outputs": [
    {
     "name": "stdout",
     "output_type": "stream",
     "text": [
      "系数: [ 0.01271519 -0.00040291]\n",
      "截距: -2.4503646873523603\n",
      "R²（决定系数）：0.1442\n"
     ]
    }
   ],
   "execution_count": 123
  },
  {
   "metadata": {
    "ExecuteTime": {
     "end_time": "2025-09-05T03:02:39.881924Z",
     "start_time": "2025-09-05T03:02:39.878863Z"
    }
   },
   "cell_type": "code",
   "source": [
    "coef = np.hstack([model.intercept_, model.coef_])  # 截距 + 斜率\n",
    "feature_names = ['const'] + X_train.columns.tolist()  # 变量名（含常数项）"
   ],
   "id": "e004b0dbdacb6105",
   "outputs": [],
   "execution_count": 124
  },
  {
   "metadata": {
    "ExecuteTime": {
     "end_time": "2025-09-05T03:02:40.726652Z",
     "start_time": "2025-09-05T03:02:40.720708Z"
    }
   },
   "cell_type": "code",
   "source": [
    "def f_test(model, X, y):\n",
    "    \"\"\"\n",
    "    计算整体模型的F检验\n",
    "    H0: 所有自变量系数均为0（模型无解释力）\n",
    "    H1: 至少一个自变量系数不为0（模型有解释力）\n",
    "    \"\"\"\n",
    "    n = len(y)  # 样本量\n",
    "    p = X.shape[1]  # 自变量个数（不含截距）\n",
    "\n",
    "    # 预测值\n",
    "    y_pred = model.predict(X)\n",
    "\n",
    "    # 总平方和（SST）：因变量总变异\n",
    "    sst = np.sum((y - np.mean(y)) **2)\n",
    "\n",
    "    # 回归平方和（SSR）：模型解释的变异\n",
    "    ssr = np.sum((y_pred - np.mean(y))** 2)\n",
    "\n",
    "    # 残差平方和（SSE）：模型未解释的变异\n",
    "    sse = np.sum((y - y_pred) **2)\n",
    "\n",
    "    # 自由度\n",
    "    df_regression = p  # 回归自由度\n",
    "    df_residual = n - p - 1  # 残差自由度\n",
    "\n",
    "    # F统计量\n",
    "    f_stat = (ssr / df_regression) / (sse / df_residual)\n",
    "\n",
    "    # F分布的p值（右侧检验）\n",
    "    f_pvalue = 1 - stats.f.cdf(f_stat, df_regression, df_residual)\n",
    "\n",
    "    return {\n",
    "        'F统计量': f_stat,\n",
    "        'p值': f_pvalue,\n",
    "        '结论': \"模型整体显著（p<0.05）\" if f_pvalue < 0.05 else \"模型整体不显著（p≥0.05）\"\n",
    "    }\n",
    "\n",
    "# 执行F检验\n",
    "f_result = f_test(model, X_train, y_train)\n",
    "print(\"=== 整体模型显著性检验（F检验） ===\")\n",
    "for key, value in f_result.items():\n",
    "    print(f\"{key}: {value:.6f}\" if isinstance(value, float) else f\"{key}: {value}\")"
   ],
   "id": "b608df9a04ecf5d6",
   "outputs": [
    {
     "name": "stdout",
     "output_type": "stream",
     "text": [
      "=== 整体模型显著性检验（F检验） ===\n",
      "F统计量: 16.917310\n",
      "p值: 0.000000\n",
      "结论: 模型整体显著（p<0.05）\n"
     ]
    }
   ],
   "execution_count": 125
  },
  {
   "metadata": {
    "ExecuteTime": {
     "end_time": "2025-09-05T03:02:43.287645Z",
     "start_time": "2025-09-05T03:02:43.279087Z"
    }
   },
   "cell_type": "code",
   "source": [
    "def t_test(model, X, y):\n",
    "    \"\"\"\n",
    "    计算每个系数的t检验\n",
    "    H0: 系数=0（该变量无显著影响）\n",
    "    H1: 系数≠0（该变量有显著影响）\n",
    "    \"\"\"\n",
    "    n = len(y)  # 样本量\n",
    "    p = X.shape[1]  # 自变量个数（不含截距）\n",
    "\n",
    "    # 预测值与残差\n",
    "    y_pred = model.predict(X)\n",
    "    residuals = y - y_pred\n",
    "\n",
    "    # 残差方差估计（σ²）\n",
    "    sigma_sq = np.sum(residuals** 2) / (n - p - 1)\n",
    "\n",
    "    # 设计矩阵（含常数项）\n",
    "    X_with_const = np.hstack([np.ones((n, 1)), X])  # 第一列全为1（截距项）\n",
    "\n",
    "    # 计算(XTX)^-1（用于求系数的标准误差）\n",
    "    xtx = np.dot(X_with_const.T, X_with_const)\n",
    "    xtx_inv = np.linalg.inv(xtx)\n",
    "\n",
    "    # 系数的标准误差（SE）：sqrt(σ² * (XTX)^-1的对角线元素)\n",
    "    se = np.sqrt(sigma_sq * np.diag(xtx_inv))\n",
    "\n",
    "    # t统计量 = 系数 / 标准误差\n",
    "    t_stats = coef / se\n",
    "\n",
    "    # t分布的p值（双侧检验）\n",
    "    df = n - p - 1  # 自由度\n",
    "    t_pvalues = 2 * (1 - stats.t.cdf(np.abs(t_stats), df))\n",
    "\n",
    "    # 整理结果\n",
    "    result = pd.DataFrame({\n",
    "        '变量': feature_names,\n",
    "        '系数': coef,\n",
    "        '标准误差': se,\n",
    "        't统计量': t_stats,\n",
    "        'p值': t_pvalues,\n",
    "        '显著性': ['显著' if p < 0.05 else '不显著' for p in t_pvalues]\n",
    "    })\n",
    "    return result\n",
    "\n",
    "# 执行t检验\n",
    "t_result = t_test(model, X_train, y_train)\n",
    "print(\"\\n=== 单个系数显著性检验（t检验） ===\")\n",
    "print(t_result.round(6))"
   ],
   "id": "3a324e871f3f1770",
   "outputs": [
    {
     "name": "stdout",
     "output_type": "stream",
     "text": [
      "\n",
      "=== 单个系数显著性检验（t检验） ===\n",
      "        变量        系数      标准误差       t统计量        p值 显著性\n",
      "0    const -2.450365  0.096491 -25.394825  0.000000  显著\n",
      "1     检测孕周  0.012715  0.003748   3.392119  0.000723  显著\n",
      "2  孕妇BMI_2 -0.000403  0.000078  -5.185708  0.000000  显著\n"
     ]
    }
   ],
   "execution_count": 126
  },
  {
   "metadata": {
    "ExecuteTime": {
     "end_time": "2025-09-05T03:02:46.855894Z",
     "start_time": "2025-09-05T03:02:46.848659Z"
    }
   },
   "cell_type": "code",
   "source": [
    "def calculate_vif(X):\n",
    "    \"\"\"计算方差膨胀因子（检测共线性）\"\"\"\n",
    "    vif = []\n",
    "    for i in range(X.shape[1]):\n",
    "        # 以第i个变量为因变量，其他变量为自变量拟合回归\n",
    "        xi = X.iloc[:, i].values.reshape(-1, 1)\n",
    "        x_rest = X.drop(X.columns[i], axis=1).values\n",
    "        r2 = r2_score(xi, LinearRegression().fit(x_rest, xi).predict(x_rest))\n",
    "        vif_i = 1 / (1 - r2)  # VIF计算公式\n",
    "        vif.append(vif_i)\n",
    "    return pd.DataFrame({\n",
    "        '变量': X.columns,\n",
    "        'VIF': vif,\n",
    "        '共线性程度': ['低' if v <= 5 else '中' if v <= 10 else '高' for v in vif]\n",
    "    })\n",
    "\n",
    "vif_result = calculate_vif(X_train)\n",
    "print(\"\\n=== 多重共线性检验（VIF） ===\")\n",
    "print(vif_result.round(2))"
   ],
   "id": "9f2318611a8c16bb",
   "outputs": [
    {
     "name": "stdout",
     "output_type": "stream",
     "text": [
      "\n",
      "=== 多重共线性检验（VIF） ===\n",
      "        变量   VIF 共线性程度\n",
      "0     检测孕周  1.02     低\n",
      "1  孕妇BMI_2  1.02     低\n"
     ]
    }
   ],
   "execution_count": 127
  },
  {
   "metadata": {
    "ExecuteTime": {
     "end_time": "2025-09-05T02:16:59.233345Z",
     "start_time": "2025-09-05T02:16:58.789098Z"
    }
   },
   "cell_type": "code",
   "source": [
    "rf_model = RandomForestRegressor(max_depth=20, min_samples_leaf=10, random_state=114514, n_estimators=150,\n",
    "                                 min_samples_split=20)\n",
    "rf_model.fit(X_train, y_train)\n",
    "\n",
    "# 拟合模型\n",
    "rf_model.fit(X_train, y_train)\n",
    "\n",
    "# 在测试集上进行预测\n",
    "y_pred = rf_model.predict(X_test)\n",
    "\n",
    "# 计算均方误差\n",
    "mse = mean_squared_error(y_test, y_pred)\n",
    "\n",
    "# 计算均方根误差\n",
    "rmse = mean_squared_error(y_test, y_pred,)\n",
    "\n",
    "# 计算R2得分\n",
    "r2 = r2_score(y_test, y_pred)\n",
    "\n",
    "# 输出评估指标\n",
    "print({'均方误差': mse, '均方根误差': rmse, 'R2得分': r2})"
   ],
   "id": "9180390643109581",
   "outputs": [
    {
     "name": "stdout",
     "output_type": "stream",
     "text": [
      "{'均方误差': 0.0009426241208850346, '均方根误差': 0.0009426241208850346, 'R2得分': 0.13217767761795962}\n"
     ]
    }
   ],
   "execution_count": 52
  }
 ],
 "metadata": {
  "kernelspec": {
   "display_name": "Python 3",
   "language": "python",
   "name": "python3"
  },
  "language_info": {
   "codemirror_mode": {
    "name": "ipython",
    "version": 2
   },
   "file_extension": ".py",
   "mimetype": "text/x-python",
   "name": "python",
   "nbconvert_exporter": "python",
   "pygments_lexer": "ipython2",
   "version": "2.7.6"
  }
 },
 "nbformat": 4,
 "nbformat_minor": 5
}
