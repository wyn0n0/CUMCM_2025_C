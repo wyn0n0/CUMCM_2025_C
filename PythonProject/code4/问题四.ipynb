{
 "cells": [
  {
   "metadata": {},
   "cell_type": "code",
   "outputs": [],
   "execution_count": null,
   "source": [
    "import pandas as pd, numpy as np\n",
    "import statsmodels.api as sm\n",
    "from scipy import stats"
   ],
   "id": "8cf203041f3cf5c2"
  },
  {
   "metadata": {},
   "cell_type": "code",
   "outputs": [
    {
     "name": "stderr",
     "output_type": "stream",
     "text": [
      "C:\\Users\\SerenadeedanereS\\AppData\\Local\\Temp\\ipykernel_21960\\3501223317.py:33: FutureWarning: The default of observed=False is deprecated and will be changed to True in a future version of pandas. Pass observed=False to retain current behavior or observed=True to adopt the future default and silence this warning.\n",
      "  tab = data.groupby(\"group\").agg(n=(\"y\",\"size\"),\n",
      "C:\\Users\\SerenadeedanereS\\AppData\\Local\\Temp\\ipykernel_21960\\3501223317.py:51: RuntimeWarning: overflow encountered in exp\n",
      "  \"OR(=exp(系数))\": np.exp(params.values),\n",
      "C:\\Users\\SerenadeedanereS\\AppData\\Local\\Temp\\ipykernel_21960\\3501223317.py:53: RuntimeWarning: overflow encountered in exp\n",
      "  \"CI上限(OR)\": np.exp(conf[1].values),\n"
     ]
    }
   ],
   "execution_count": 2,
   "source": [
    "\n",
    "\n",
    "# 读取\n",
    "df = pd.read_excel(r\"G:\\25国赛\\C题\\PythonProject\\code4\\筛.xlsx\")\n",
    "\n",
    "y_col = \"abnormal\"\n",
    "x_cols = [\"年龄\",\"检测孕周\",\"GC含量\",\"原始读段数\",\"在参考基因组上比对的比例\",\n",
    "          \"13号染色体的Z值\",\"18号染色体的Z值\",\"21号染色体的Z值\",\"X染色体的Z值\",\n",
    "          \"X染色体浓度\",\"13号染色体的GC含量\",\"18号染色体的GC含量\",\"21号染色体的GC含量\"]\n",
    "\n",
    "# 选取并转数值、去缺失\n",
    "df_use = df[[y_col] + x_cols].copy()\n",
    "for c in df_use.columns:\n",
    "    df_use[c] = pd.to_numeric(df_use[c], errors=\"coerce\")\n",
    "df_use = df_use.dropna().reset_index(drop=True)\n",
    "\n",
    "X = sm.add_constant(df_use[x_cols])\n",
    "y = df_use[y_col]\n",
    "model = sm.Logit(y, X)\n",
    "res = model.fit(disp=False)\n",
    "\n",
    "\n",
    "df_use[\"p_hat\"] = res.predict(X)\n",
    "\n",
    "# Hosmer-Lemeshow检验（按预测概率分位分组）\n",
    "def hosmer_lemeshow(y_true, p_pred, g=10):\n",
    "    data = pd.DataFrame({\"y\": y_true, \"p\": p_pred}).sort_values(\"p\")\n",
    "    data[\"group\"] = pd.qcut(data[\"p\"], q=g, duplicates=\"drop\")\n",
    "    tab = data.groupby(\"group\").agg(n=(\"y\",\"size\"),\n",
    "                                    y_obs=(\"y\",\"sum\"),\n",
    "                                    p_bar=(\"p\",\"mean\")).reset_index()\n",
    "    tab[\"y_exp\"] = tab[\"n\"]*tab[\"p_bar\"]\n",
    "    chi2 = np.sum((tab[\"y_obs\"] - tab[\"y_exp\"])**2 /\n",
    "                  (tab[\"n\"]*tab[\"p_bar\"]*(1-tab[\"p_bar\"]) + 1e-12))\n",
    "    dof = tab.shape[0] - 2\n",
    "    pval = 1 - stats.chi2.cdf(chi2, dof)\n",
    "    return tab, chi2, dof, pval\n",
    "\n",
    "hl_table, hl_chi2, hl_df, hl_p = hosmer_lemeshow(y, df_use[\"p_hat\"], g=10)\n",
    "\n",
    "params = res.params\n",
    "conf = res.conf_int()\n",
    "or_table = pd.DataFrame({\n",
    "    \"变量\": params.index,\n",
    "    \"系数\": params.values,\n",
    "    \"OR(=exp(系数))\": np.exp(params.values),\n",
    "    \"CI下限(OR)\": np.exp(conf[0].values),\n",
    "    \"CI上限(OR)\": np.exp(conf[1].values),\n",
    "    \"p值\": res.pvalues.values\n",
    "})\n",
    "\n",
    "# 概率计算方程（logit → 概率）\n",
    "eq_terms = [f\"{coef:.6f}*{name}\" for name, coef in params.items() if name!=\"const\"]\n",
    "equation = f\"线性预测η = {params['const']:.6f} + \" + \" + \".join(eq_terms) + \\\n",
    "           \"\\n概率 p = 1 / (1 + exp(-η))\"\n",
    "\n",
    "# 保存结果\n",
    "or_path = \"Logit_OR表.csv\"\n",
    "hl_path = \"HL检验分组表.csv\"\n",
    "sum_path = \"Logit_摘要.txt\"\n",
    "or_table.to_csv(or_path, index=False)\n",
    "hl_table.to_csv(hl_path, index=False)\n",
    "with open(sum_path, \"w\", encoding=\"utf-8\") as f:\n",
    "    f.write(res.summary2().as_text())\n",
    "    f.write(\"\\n\\n--- 概率计算方程 ---\\n\")\n",
    "    f.write(equation)\n",
    "    f.write(f\"\\n\\n--- Hosmer-Lemeshow 检验 ---\\nChi2 = {hl_chi2:.3f}, df = {hl_df}, p = {hl_p:.4f}\\n\")\n",
    "    f.write(\"解释：当 p 不显著(>0.05) → 拟合效果较好；当 p 显著(≤0.05) → 拟合较差。\\n\")\n"
   ],
   "id": "49710cfe"
  }
 ],
 "metadata": {
  "kernelspec": {
   "display_name": "base",
   "language": "python",
   "name": "python3"
  },
  "language_info": {
   "codemirror_mode": {
    "name": "ipython",
    "version": 3
   },
   "file_extension": ".py",
   "mimetype": "text/x-python",
   "name": "python",
   "nbconvert_exporter": "python",
   "pygments_lexer": "ipython3",
   "version": "3.12.7"
  }
 },
 "nbformat": 4,
 "nbformat_minor": 5
}
