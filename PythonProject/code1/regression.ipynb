{
 "cells": [
  {
   "cell_type": "code",
   "id": "initial_id",
   "metadata": {
    "collapsed": true,
    "ExecuteTime": {
     "end_time": "2025-09-05T10:37:45.265010Z",
     "start_time": "2025-09-05T10:37:45.258528Z"
    }
   },
   "source": [
    "import numpy as np\n",
    "import matplotlib.pyplot as plt\n",
    "import seaborn as sns\n",
    "import pandas as pd\n",
    "from sklearn.linear_model import LinearRegression\n",
    "from sklearn.metrics import r2_score, mean_squared_error, mean_absolute_error\n",
    "from sklearn.model_selection import train_test_split\n",
    "from sklearn.preprocessing import PolynomialFeatures\n",
    "from sklearn.ensemble import RandomForestRegressor\n",
    "import statsmodels.api as sm\n",
    "from statsmodels.stats.outliers_influence import variance_inflation_factor\n",
    "from scipy import stats"
   ],
   "outputs": [],
   "execution_count": 13
  },
  {
   "metadata": {},
   "cell_type": "code",
   "outputs": [],
   "execution_count": null,
   "source": "",
   "id": "f07ff9d789a10b39"
  },
  {
   "metadata": {
    "ExecuteTime": {
     "end_time": "2025-09-05T11:04:04.643909Z",
     "start_time": "2025-09-05T11:04:04.389249Z"
    }
   },
   "cell_type": "code",
   "source": [
    "df = pd.read_excel(r'G:\\25国赛\\C题\\PythonProject\\code1\\Data1_WeekToDay.xlsx')\n",
    "df['检测孕周'] = df['检测孕周'] / 7\n",
    "\n",
    "X = df[['检测孕周','孕妇BMI','年龄']]\n",
    "y = df['Y染色体浓度']\n",
    "\n",
    "y_log = np.log(y)\n",
    "X_trans = X.copy()\n",
    "X_trans['age2'] = X_trans['年龄'] **2\n",
    "X_trans['log检测孕周'] = np.log(X_trans['检测孕周'])\n",
    "X_trans['BMI_2'] = np.power(X_trans['孕妇BMI'], 2)\n",
    "X_trans['BMI*GA'] = X_trans['孕妇BMI'] * X_trans['检测孕周']\n",
    "X_trans['BMI_centered'] = X_trans['孕妇BMI'] - X_trans['孕妇BMI'].mean()\n",
    "X_trans['logGA*BMI_centered'] = X_trans['log检测孕周'] * X_trans['BMI_centered']\n",
    "X_trans['BMI_centered_sq'] = X_trans['BMI_centered'] ** 2\n",
    "X_trans = X_trans[['检测孕周', '孕妇BMI','BMI_centered_sq','年龄']]\n",
    "\n",
    "# X_trans = sm.add_constant(X_trans)\n",
    "\n",
    "X_train, X_test, y_train, y_test = train_test_split(X_trans, y, test_size=0.2, random_state=2)\n",
    "\n",
    "# model = sm.OLS(y_log, X_trans).fit()\n",
    "# print(model.summary())\n",
    "\n",
    "# degree = 2  # 多项式阶数（根据数据特点调整）\n",
    "# poly = PolynomialFeatures(degree=degree,)\n",
    "# # 转换特征：生成X1, X2, X1², X1X2, X2², X1³, X1²X2, X1X2², X2³等项\n",
    "# X_train_poly = poly.fit_transform(X_train)\n",
    "# X_test_poly = poly.transform(X_test)\n",
    "\n",
    "\n",
    "model = LinearRegression()\n",
    "model.fit(X_train, y_train)\n",
    "y_pred = model.predict(X_test)\n",
    "\n",
    "\n",
    "r2 = r2_score(y_test, y_pred)\n",
    "\n",
    "# print(f\"系数: {model.params[1:]}\")\n",
    "# print(f\"截距: {model.params[0]}\")\n",
    "print(f\"系数: {model.coef_}\")\n",
    "print(f\"截距: {model.intercept_}\")\n",
    "print(f\"R²（决定系数）：{r2:.4f}\")"
   ],
   "id": "77556b560e6efaa5",
   "outputs": [
    {
     "name": "stdout",
     "output_type": "stream",
     "text": [
      "系数: [ 0.00125591 -0.00144787 -0.00018168 -0.00110431]\n",
      "截距: 0.13629385289629597\n",
      "R²（决定系数）：0.1050\n"
     ]
    }
   ],
   "execution_count": 52
  },
  {
   "metadata": {
    "ExecuteTime": {
     "end_time": "2025-09-05T11:00:26.464170Z",
     "start_time": "2025-09-05T11:00:26.461525Z"
    }
   },
   "cell_type": "code",
   "source": [
    "coef = np.hstack([model.intercept_, model.coef_])  # 截距 + 斜率\n",
    "feature_names = ['const'] + X_trans.columns.tolist()  # 变量名（含常数项）"
   ],
   "id": "e004b0dbdacb6105",
   "outputs": [],
   "execution_count": 44
  },
  {
   "metadata": {
    "ExecuteTime": {
     "end_time": "2025-09-05T11:00:43.199527Z",
     "start_time": "2025-09-05T11:00:43.193638Z"
    }
   },
   "cell_type": "code",
   "source": [
    "def f_test(model, X, y):\n",
    "    \"\"\"\n",
    "    计算整体模型的F检验\n",
    "    H0: 所有自变量系数均为0（模型无解释力）\n",
    "    H1: 至少一个自变量系数不为0（模型有解释力）\n",
    "    \"\"\"\n",
    "    n = len(y)  # 样本量\n",
    "    p = X.shape[1]  # 自变量个数（不含截距）\n",
    "\n",
    "    # 预测值\n",
    "    y_pred = model.predict(X)\n",
    "\n",
    "    # 总平方和（SST）：因变量总变异\n",
    "    sst = np.sum((y - np.mean(y)) **2)\n",
    "\n",
    "    # 回归平方和（SSR）：模型解释的变异\n",
    "    ssr = np.sum((y_pred - np.mean(y))** 2)\n",
    "\n",
    "    # 残差平方和（SSE）：模型未解释的变异\n",
    "    sse = np.sum((y - y_pred) **2)\n",
    "\n",
    "    # 自由度\n",
    "    df_regression = p  # 回归自由度\n",
    "    df_residual = n - p - 1  # 残差自由度\n",
    "\n",
    "    # F统计量\n",
    "    f_stat = (ssr / df_regression) / (sse / df_residual)\n",
    "\n",
    "    # F分布的p值（右侧检验）\n",
    "    f_pvalue = 1 - stats.f.cdf(f_stat, df_regression, df_residual)\n",
    "\n",
    "    return {\n",
    "        'F统计量': f_stat,\n",
    "        'p值': f_pvalue,\n",
    "        '结论': \"模型整体显著（p<0.05）\" if f_pvalue < 0.05 else \"模型整体不显著（p≥0.05）\"\n",
    "    }\n",
    "\n",
    "# 执行F检验\n",
    "f_result = f_test(model, X_train, y_train)\n",
    "print(\"=== 整体模型显著性检验（F检验） ===\")\n",
    "for key, value in f_result.items():\n",
    "    print(f\"{key}: {value:.6f}\" if isinstance(value, float) else f\"{key}: {value}\")"
   ],
   "id": "b608df9a04ecf5d6",
   "outputs": [
    {
     "name": "stdout",
     "output_type": "stream",
     "text": [
      "=== 整体模型显著性检验（F检验） ===\n",
      "F统计量: 12.996070\n",
      "p值: 0.000000\n",
      "结论: 模型整体显著（p<0.05）\n"
     ]
    }
   ],
   "execution_count": 45
  },
  {
   "metadata": {
    "ExecuteTime": {
     "end_time": "2025-09-05T11:00:51.328007Z",
     "start_time": "2025-09-05T11:00:51.321195Z"
    }
   },
   "cell_type": "code",
   "source": [
    "def t_test(model, X, y):\n",
    "    \"\"\"\n",
    "    计算每个系数的t检验\n",
    "    H0: 系数=0（该变量无显著影响）\n",
    "    H1: 系数≠0（该变量有显著影响）\n",
    "    \"\"\"\n",
    "    n = len(y)  # 样本量\n",
    "    p = X.shape[1]  # 自变量个数（不含截距）\n",
    "\n",
    "    # 预测值与残差\n",
    "    y_pred = model.predict(X)\n",
    "    residuals = y - y_pred\n",
    "\n",
    "    # 残差方差估计（σ²）\n",
    "    sigma_sq = np.sum(residuals** 2) / (n - p - 1)\n",
    "\n",
    "    # 设计矩阵（含常数项）\n",
    "    X_with_const = np.hstack([np.ones((n, 1)), X])  # 第一列全为1（截距项）\n",
    "\n",
    "    # 计算(XTX)^-1（用于求系数的标准误差）\n",
    "    xtx = np.dot(X_with_const.T, X_with_const)\n",
    "    xtx_inv = np.linalg.inv(xtx)\n",
    "\n",
    "    # 系数的标准误差（SE）：sqrt(σ² * (XTX)^-1的对角线元素)\n",
    "    se = np.sqrt(sigma_sq * np.diag(xtx_inv))\n",
    "\n",
    "    # t统计量 = 系数 / 标准误差\n",
    "    t_stats = coef / se\n",
    "\n",
    "    # t分布的p值（双侧检验）\n",
    "    df = n - p - 1  # 自由度\n",
    "    t_pvalues = 2 * (1 - stats.t.cdf(np.abs(t_stats), df))\n",
    "\n",
    "    # 整理结果\n",
    "    result = pd.DataFrame({\n",
    "        '变量': feature_names,\n",
    "        '系数': coef,\n",
    "        '标准误差': se,\n",
    "        't统计量': t_stats,\n",
    "        'p值': t_pvalues,\n",
    "        '显著性': ['显著' if p < 0.05 else '不显著' for p in t_pvalues]\n",
    "    })\n",
    "    return result\n",
    "\n",
    "# 执行t检验\n",
    "t_result = t_test(model, X_train, y_train)\n",
    "print(\"\\n=== 单个系数显著性检验（t检验） ===\")\n",
    "print(t_result.round(6))"
   ],
   "id": "3a324e871f3f1770",
   "outputs": [
    {
     "name": "stdout",
     "output_type": "stream",
     "text": [
      "\n",
      "=== 单个系数显著性检验（t检验） ===\n",
      "                变量        系数      标准误差      t统计量        p值 显著性\n",
      "0            const  0.136294  0.016260  8.382308  0.000000  显著\n",
      "1             检测孕周  0.001256  0.000285  4.400774  0.000012  显著\n",
      "2            孕妇BMI -0.001448  0.000413 -3.506019  0.000480  显著\n",
      "3  BMI_centered_sq -0.000182  0.000069 -2.632191  0.008644  显著\n",
      "4               年龄 -0.001104  0.000310 -3.564791  0.000385  显著\n"
     ]
    }
   ],
   "execution_count": 46
  },
  {
   "metadata": {
    "ExecuteTime": {
     "end_time": "2025-09-05T11:01:04.404276Z",
     "start_time": "2025-09-05T11:01:04.394640Z"
    }
   },
   "cell_type": "code",
   "source": [
    "def calculate_vif(X):\n",
    "    \"\"\"计算方差膨胀因子（检测共线性）\"\"\"\n",
    "    vif = []\n",
    "    for i in range(X.shape[1]):\n",
    "        # 以第i个变量为因变量，其他变量为自变量拟合回归\n",
    "        xi = X.iloc[:, i].values.reshape(-1, 1)\n",
    "        x_rest = X.drop(X.columns[i], axis=1).values\n",
    "        r2 = r2_score(xi, LinearRegression().fit(x_rest, xi).predict(x_rest))\n",
    "        vif_i = 1 / (1 - r2)  # VIF计算公式\n",
    "        vif.append(vif_i)\n",
    "    return pd.DataFrame({\n",
    "        '变量': X.columns,\n",
    "        'VIF': vif,\n",
    "        '共线性程度': ['低' if v <= 5 else '中' if v <= 10 else '高' for v in vif]\n",
    "    })\n",
    "\n",
    "vif_result = calculate_vif(X_train)\n",
    "print(\"\\n=== 多重共线性检验（VIF） ===\")\n",
    "print(vif_result.round(2))"
   ],
   "id": "9f2318611a8c16bb",
   "outputs": [
    {
     "name": "stdout",
     "output_type": "stream",
     "text": [
      "\n",
      "=== 多重共线性检验（VIF） ===\n",
      "                变量   VIF 共线性程度\n",
      "0             检测孕周  1.03     低\n",
      "1            孕妇BMI  1.10     低\n",
      "2  BMI_centered_sq  1.10     低\n",
      "3               年龄  1.00     低\n"
     ]
    }
   ],
   "execution_count": 47
  },
  {
   "metadata": {
    "ExecuteTime": {
     "end_time": "2025-09-05T04:02:49.147877Z",
     "start_time": "2025-09-05T04:02:49.145230Z"
    }
   },
   "cell_type": "code",
   "source": [
    "# rf_model = RandomForestRegressor(max_depth=20, min_samples_leaf=10, random_state=114514, n_estimators=150,\n",
    "#                                  min_samples_split=20)\n",
    "# rf_model.fit(X_train, y_train)\n",
    "#\n",
    "# # 拟合模型\n",
    "# rf_model.fit(X_train, y_train)\n",
    "#\n",
    "# # 在测试集上进行预测\n",
    "# y_pred = rf_model.predict(X_test)\n",
    "#\n",
    "# # 计算均方误差\n",
    "# mse = mean_squared_error(y_test, y_pred)\n",
    "#\n",
    "# # 计算均方根误差\n",
    "# rmse = mean_squared_error(y_test, y_pred,)\n",
    "#\n",
    "# # 计算R2得分\n",
    "# r2 = r2_score(y_test, y_pred)\n",
    "#\n",
    "# # 输出评估指标\n",
    "# print({'均方误差': mse, '均方根误差': rmse, 'R2得分': r2})"
   ],
   "id": "9180390643109581",
   "outputs": [],
   "execution_count": 202
  },
  {
   "metadata": {},
   "cell_type": "code",
   "outputs": [],
   "execution_count": null,
   "source": "",
   "id": "f39029336078c55f"
  }
 ],
 "metadata": {
  "kernelspec": {
   "display_name": "Python 3",
   "language": "python",
   "name": "python3"
  },
  "language_info": {
   "codemirror_mode": {
    "name": "ipython",
    "version": 2
   },
   "file_extension": ".py",
   "mimetype": "text/x-python",
   "name": "python",
   "nbconvert_exporter": "python",
   "pygments_lexer": "ipython2",
   "version": "2.7.6"
  }
 },
 "nbformat": 4,
 "nbformat_minor": 5
}
