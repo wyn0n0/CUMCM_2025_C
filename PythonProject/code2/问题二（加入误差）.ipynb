{
 "cells": [
  {
   "cell_type": "code",
   "id": "initial_id",
   "metadata": {
    "collapsed": true,
    "ExecuteTime": {
     "end_time": "2025-09-05T05:21:05.843199Z",
     "start_time": "2025-09-05T05:21:05.840625Z"
    }
   },
   "source": [
    "import numpy as np\n",
    "import pandas as pd"
   ],
   "outputs": [],
   "execution_count": 5
  },
  {
   "metadata": {
    "ExecuteTime": {
     "end_time": "2025-09-05T05:21:30.349551Z",
     "start_time": "2025-09-05T05:21:30.114202Z"
    }
   },
   "cell_type": "code",
   "source": [
    "df = pd.read_excel('G:\\\\25国赛\\\\C题\\\\PythonProject\\\\code1\\\\Data1_WeekToDay.xlsx')\n",
    "raw_data = df['Y染色体浓度'].values\n",
    "\n",
    "\n",
    "raw_std = np.std(raw_data)\n",
    "error_mean = 0\n",
    "error_std = raw_std * 0.15\n",
    "n = len(raw_data)\n",
    "np.random.seed(2)\n",
    "random_error = np.random.normal(loc=error_mean, scale=error_std, size=n)\n",
    "\n"
   ],
   "id": "18fdc209c50fbe4f",
   "outputs": [],
   "execution_count": 8
  },
  {
   "metadata": {
    "ExecuteTime": {
     "end_time": "2025-09-05T05:21:34.292973Z",
     "start_time": "2025-09-05T05:21:33.973351Z"
    }
   },
   "cell_type": "code",
   "source": [
    "noisy_data = raw_data + random_error\n",
    "noisy_data = np.where(noisy_data > 0, noisy_data, raw_data)\n",
    "df['Y染色体浓度加误差'] = noisy_data\n",
    "\n",
    "df.to_excel('noisy_data(15%).xlsx')"
   ],
   "id": "22bbdb36691e33f8",
   "outputs": [],
   "execution_count": 9
  },
  {
   "metadata": {},
   "cell_type": "code",
   "outputs": [],
   "execution_count": null,
   "source": "",
   "id": "6ee0c9a7bdf4c9b9"
  }
 ],
 "metadata": {
  "kernelspec": {
   "display_name": "Python 3",
   "language": "python",
   "name": "python3"
  },
  "language_info": {
   "codemirror_mode": {
    "name": "ipython",
    "version": 2
   },
   "file_extension": ".py",
   "mimetype": "text/x-python",
   "name": "python",
   "nbconvert_exporter": "python",
   "pygments_lexer": "ipython2",
   "version": "2.7.6"
  }
 },
 "nbformat": 4,
 "nbformat_minor": 5
}
